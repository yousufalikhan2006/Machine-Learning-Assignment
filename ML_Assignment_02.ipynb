{
 "cells": [
  {
   "cell_type": "markdown",
   "id": "fc495a9a",
   "metadata": {},
   "source": [
    "# 1. What is the concept of human learning? Please give two examples.\n",
    "\n",
    "## Answer:"
   ]
  },
  {
   "cell_type": "markdown",
   "id": "14b82bd2",
   "metadata": {},
   "source": [
    "#### Learning is defined as “any relatively permanent change in behaviour that occurs as a result of practice and experience”. Learning is a key process in human behaviour. The skills, knowledge, habits, attitudes, interests and other personality characteristics are all the result of learning.\n",
    "\n",
    "#### Signal learning-> The individual learns to make a general diffuse response to a signal. This is the classical conditioned response of Pavlov.\n",
    "#### Stimulus-response learning-> The learner acquires a precise response to a discriminted stimulus. What is learned is a connection or, in Skinnerian terms, a discriminated operant, somtimes called an instrumental response.\n",
    "#### Chaining-> What is acquired is a chain of two or more stimulus response connections. The conditions for such learning have also been described by Skinner.\n",
    "#### Verbal association-> Verbal association is the learning of chains that are verbal. Basically, the conditions resemble those for other (motor) chains. However, the presence of language in the human being makes this special type because internal links may be selected from the individual's previously learned repertoire of language.\n",
    "#### Multiple discrimination-> The individual learns to make a number of different identifying responses to many different stimuli, which may resemble each other in physical appearence to a greater or lesser degree. Although the learning of each stimulus-response connection is a simple occurrence, the connections tend to interfere with one another.\n",
    "#### Concept learning-> The learner acquires the ability to make a common response to a class of stimuli even though the individual members of that class may differ widely from each other. The learner is able to make a response that identifies an entire class of objects or events.\n",
    "#### Principle learning-> In simplest terms, a principle is chain of two or more concepts. It functions to organize behavior and experience. In Ausubel's terminology, a principle is a \"subsumer\" -- a cluster of related concepts.\n",
    "#### Problem solving-> Problem solving is a kind of learning that requires the internal events usually referred to as \"thinking\". Previously acquired concepts and principles are combined in a conscious focus on an unresolved or ambiguous set of events. "
   ]
  },
  {
   "cell_type": "markdown",
   "id": "249f6340",
   "metadata": {},
   "source": [
    "# 2. What different forms of human learning are there? Are there any machine learning equivalents?\n",
    "\n",
    "## Answer:"
   ]
  },
  {
   "cell_type": "markdown",
   "id": "b55656a8",
   "metadata": {},
   "source": [
    "#### The three major types of learning described by behavioral psychology are classical conditioning, operant conditioning, and observational learning.\n",
    "#### Supervised learning is similar to concept learning, where a person is required to classify new objects into existing categories, by matching the features of the new objects.\n",
    "#### Artificial neural networks follow the neuronal principle of Hebbian learning, where the algorithm centres on inputs with similar properties, just like how neurons that activate simultaneously strengthen the synaptic link between each other.\n",
    "#### Reinforcement learning is inspired by the reward system of operant conditioning."
   ]
  },
  {
   "cell_type": "markdown",
   "id": "6c74281f",
   "metadata": {},
   "source": [
    "# 3. What is machine learning, and how does it work? What are the key responsibilities of machine learning?\n",
    "\n",
    "## Answer:"
   ]
  },
  {
   "cell_type": "markdown",
   "id": "218073ca",
   "metadata": {},
   "source": [
    "#### Machine learning is the field of study that gives computers the ability to learn without explicitly programmed. Machine learning algorithms use computational methods to “learn” information directly from data without relying on a predetermined equation as a model.\n",
    "#### Build algorithms based on statistical modelling procedures and maintain scalable machine learning solutions in production. use data modelling and evaluation strategy to find patterns and predict unseen instances."
   ]
  },
  {
   "cell_type": "markdown",
   "id": "293fdb5b",
   "metadata": {},
   "source": [
    "# 4. Define the terms \"penalty\" and \"reward\" in the context of reinforcement learning.\n",
    "\n",
    "## Answer:"
   ]
  },
  {
   "cell_type": "markdown",
   "id": "2a41585a",
   "metadata": {},
   "source": [
    "#### A reinforcement learning algorithm, which may also be referred to as an agent, learns by interacting with its environment. The agent receives rewards by performing correctly and penalties for performing incorrectly. The agent learns without intervention from a human by maximizing its reward and minimizing its penalty."
   ]
  },
  {
   "cell_type": "markdown",
   "id": "a690a2e4",
   "metadata": {},
   "source": [
    "# 5. Explain the term \"learning as a search\"?\n",
    "\n",
    "## Answer:"
   ]
  },
  {
   "cell_type": "markdown",
   "id": "87ad69f6",
   "metadata": {},
   "source": [
    "#### If we view learning as a search problem, then it is natural that our study of learning algorithms will examine the different strategies for searching the hypothesis space. We will be particularly interested in algorithms capable of efficiently searching very large or infinite hypothesis spaces, to find the hypotheses that best fit the training data."
   ]
  },
  {
   "cell_type": "markdown",
   "id": "ca526baf",
   "metadata": {},
   "source": [
    "# 6. What are the various goals of machine learning? What is the relationship between these and human learning?\n",
    "\n",
    "## Answer:"
   ]
  },
  {
   "cell_type": "markdown",
   "id": "b384b696",
   "metadata": {},
   "source": [
    "#### Machine Learning goal and usage is to build new and/or leverage existing algorithms to learn from data, in order to build generalizable models that give accurate predictions, or to find patterns, particularly with new and unseen similar data.\n",
    "\n",
    "#### Humans acquire knowledge through experience either directly or shared by others. Machines acquire knowledge through experience shared in the form of past data. We have the terms, Knowledge, Skill, and Memory being used to define intelligence."
   ]
  },
  {
   "cell_type": "markdown",
   "id": "9e0c0245",
   "metadata": {},
   "source": [
    "# 7. Illustrate the various elements of machine learning using a real-life illustration.\n",
    "\n",
    "## Answer:"
   ]
  },
  {
   "cell_type": "markdown",
   "id": "75b4aacd",
   "metadata": {},
   "source": [
    "## Image Recognition\n",
    "\n",
    "#### Image recognition is one of the most common uses of machine learning. There are many situations where you can classify the object as a digital image. For example, in the case of a black and white image, the intensity of each pixel is served as one of the measurements. In colored images, each pixel provides 3 measurements of intensities in three different colors – red, green and blue (RGB).\n",
    "\n",
    "#### Machine learning can be used for face detection in an image as well. There is a separate category for each person in a database of several people. Machine learning is also used for character recognition to discern handwritten as well as printed letters.  We can segment a piece of writing into smaller images, each containing a single character.\n",
    "\n",
    "##  Speech Recognition\n",
    "\n",
    "#### Speech recognition is the translation of spoken words into the text. It is also known as computer speech recognition or automatic speech recognition. Here, a software application can recognize the words spoken in an audio clip or file, and then subsequently convert the audio into a text file. The measurement in this application can be a set of numbers that represent the speech signal. We can also segment the speech signal by intensities in different time-frequency bands.\n",
    "\n",
    "#### Speech recognition is used in the applications like voice user interface, voice searches and more. Voice user interfaces include voice dialing, call routing, and appliance control. It can also be used a simple data entry and the preparation of structured documents.\n",
    "\n",
    "## Medical diagnosis\n",
    "\n",
    "#### Machine learning can be used in the techniques and tools that can help in the diagnosis of diseases. It is used for the analysis of the clinical parameters and their combination for the prognosis example prediction of disease progression for the extraction of medical knowledge for the outcome research, for therapy planning and patient monitoring. These are the successful implementations of the machine learning methods. It can help in the integration of computer-based systems in the healthcare sector.\n",
    "\n",
    "## Statistical Arbitrage\n",
    "\n",
    "#### In finance, arbitrage refers to the automated trading strategies that are of a short-term and involve a large number of securities. In these strategies, the user focuses on implementing the trading algorithm for a set of securities on the basis of quantities like historical correlations and the general economic variables. Machine learning methods are applied to obtain an index arbitrage strategy. We apply linear regression and the Support Vector Machine to the prices of a stream of stocks.\n",
    "\n",
    "## Learning associations\n",
    "\n",
    "#### Learning associations is the process of developing insights into the various associations between the products. A good example is how the unrelated products can be associated with one another. One of the applications of machine learning is studying the associations between the products that people buy. If a person buys a product, he will be shown similar products because there is a relation between the two products. When any new products are launched in the market, they are associated with the old ones to increase their sales.\n",
    "\n",
    "## Classification\n",
    "\n",
    "#### A classification is a process of placing each individual under study in many classes. Classification helps to analyze the measurements of an object to identify the category to which that object belongs. To establish an efficient relation, analysts use data. For example, before a bank decides to distribute loans, it assesses the customers on their ability to pay loans. By considering the factors like customer’s earnings, savings, and financial history, we can do it. This information is taken from the past data on the loan.\n",
    "\n",
    "## Prediction\n",
    "\n",
    "#### Machine learning can also be used in the prediction systems. Considering the loan example, to compute the probability of a fault, the system will need to classify the available data in groups. It is defined by a set of rules prescribed by the analysts. Once the classification is done, we can calculate the probability of the fault. These computations can compute across all the sectors for varied purposes. Making predictions is one of the best machine learning applications.\n",
    "\n",
    "## Extraction\n",
    "\n",
    "#### Extraction of information is one of the best applications of machine learning. It is the process of extracting structured information from the unstructured data. For example, the web pages, articles, blogs, business reports, and emails. The relational database maintains the output produced by the information extraction. The process of extraction takes a set of documents as input and outputs the structured data.\n",
    "\n",
    "## Regression\n",
    "\n",
    "#### We can also implement machine learning in the regression as well. In regression, we can use the principle of machine learning to optimize the parameters. It can also be used to decrease the approximation error and calculate the closest possible outcome. We can also use the machine learning for the function optimization. We can also choose to alter the inputs in order to get the closest possible outcome.\n",
    "\n",
    "## Financial Services\n",
    "\n",
    "#### Machine learning has a lot of potential in the financial and banking sector. It is the driving force behind the popularity of the financial services. Machine learning can help the banks, financial institutions to make smarter decisions. Machine learning can help the financial services to spot an account closure before it occurs. It can also track the spending pattern of the customers. Machine learning can also perform the market analysis. Smart machines can be trained to track the spending patterns. The algorithms can identify the tends easily and can react in real time."
   ]
  },
  {
   "cell_type": "markdown",
   "id": "f8cc9120",
   "metadata": {},
   "source": [
    "# 9. What is the concept of generalization? What function does it play in the machine learning process?\n",
    "\n",
    "# What is classification, exactly? What are the main distinctions between classification and regression?\n",
    "\n",
    "## Answer:"
   ]
  },
  {
   "cell_type": "markdown",
   "id": "2a6d0518",
   "metadata": {},
   "source": [
    "#### In machine learning, generalization is a definition to demonstrate how well is a trained model to classify or forecast unseen data. Training a generalized machine learning model means, in general, it works for all subset of unseen data. An example is when we train a model to classify between dogs and cats. If the model is provided with dogs images dataset with only two breeds, it may obtain a good performance. But, it possibly gets a low classification score when it is tested by other breeds of dogs as well. This issue can result to classify an actual dog image as a cat from the unseen dataset. Therefore, data diversity is very important factor in order to make a good prediction. In the sample above, the model may obtain 85% performance score when it is tested by only two dog breeds and gains 70% if trained by all breeds. However, the first possibly gets a very low score (e.g. 45%) if it is evaluated by an unseen dataset with all breed dogs. This for the latter can be unchanged given than it has been trained by high data diversity including all possible breeds.\n",
    "\n",
    "#### It should be taken into account that data diversity is not the only point to care in order to have a generalized model. It can be resulted by nature of a machine learning algorithm, or by poor hyper-parameter configuration.\n",
    "\n",
    "### Classification is a systematic grouping of observations into categories, such as when biologists categorize plants, animals, and other lifeforms into different taxonomies.\n",
    "\n",
    "#### Classification is the task of predicting a discrete class label. Regression is the task of predicting a continuous quantity.\n",
    "#### Classification predictions can be evaluated using accuracy, whereas regression predictions cannot.\n",
    "#### Regression predictions can be evaluated using root mean squared error, whereas classification predictions cannot."
   ]
  },
  {
   "cell_type": "markdown",
   "id": "4c5a32ff",
   "metadata": {},
   "source": [
    "# 11. What is regression, and how does it work? Give an example of a real-world problem that was solved using regression.\n",
    "\n",
    "## Answer:"
   ]
  },
  {
   "cell_type": "markdown",
   "id": "1cf8b624",
   "metadata": {},
   "source": [
    "#### Linear Regression works by using an independent variable to predict the values of dependent variable. In linear regression, a line of best fit is used to obtain an equation from the training dataset which can then be used to predict the values of the testing dataset.\n",
    "#### A simple linear regression real life example could be finding a relationship between the revenue and temperature, with a sample size for revenue as the dependent variable. In case of multiple variable regression, you can find the relationship between temperature, pricing and number of workers to the revenue."
   ]
  },
  {
   "cell_type": "markdown",
   "id": "bb203d5e",
   "metadata": {},
   "source": [
    "# 12. Describe the clustering mechanism in detail.\n",
    "\n",
    "## Answer:"
   ]
  },
  {
   "cell_type": "markdown",
   "id": "0530c6ec",
   "metadata": {},
   "source": [
    "#### Clustering is the process of making a group of abstract objects into classes of similar objects. A cluster of data objects can be treated as one group. While doing cluster analysis, we first partition the set of data into groups based on data similarity and then assign the labels to the groups."
   ]
  },
  {
   "cell_type": "markdown",
   "id": "28cc9a53",
   "metadata": {},
   "source": [
    "# 13. Make brief observations on two of the following topics:\n",
    "### i. Machine learning algorithms are used\n",
    "### ii. Studying under supervision\n",
    "### iii. Studying without supervision\n",
    "### iv. Reinforcement learning is a form of learning based on positive reinforcement.\n",
    "\n",
    "## Answer:"
   ]
  },
  {
   "cell_type": "markdown",
   "id": "fef97f22",
   "metadata": {},
   "source": [
    "#### i-> Machine learning algorithms are used to analyse input data and predict output values within an acceptable range. As new data is fed to these algorithms, they learn and optimise their operations to improve performance, developing 'intelligence' over time.\n",
    "\n",
    "#### ii-> Supervised learning, also known as supervised machine learning, is a subcategory of machine learning and artificial intelligence. It is defined by its use of labeled datasets to train algorithms that to classify data or predict outcomes accurately.\n",
    "\n",
    "#### iii-> Unsupervised learning is a machine learning technique, where you do not need to supervise the model. Unsupervised machine learning helps you to finds all kind of unknown patterns in data. Clustering and Association are two types of Unsupervised learning.\n",
    "\n",
    "#### Reinforcement learning is a machine learning training method based on rewarding desired behaviors and/or punishing undesired ones. In general, a reinforcement learning agent is able to perceive and interpret its environment, take actions and learn through trial and error."
   ]
  }
 ],
 "metadata": {
  "kernelspec": {
   "display_name": "Python 3",
   "language": "python",
   "name": "python3"
  },
  "language_info": {
   "codemirror_mode": {
    "name": "ipython",
    "version": 3
   },
   "file_extension": ".py",
   "mimetype": "text/x-python",
   "name": "python",
   "nbconvert_exporter": "python",
   "pygments_lexer": "ipython3",
   "version": "3.8.8"
  }
 },
 "nbformat": 4,
 "nbformat_minor": 5
}

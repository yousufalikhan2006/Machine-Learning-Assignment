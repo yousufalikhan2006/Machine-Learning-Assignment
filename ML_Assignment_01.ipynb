{
 "cells": [
  {
   "cell_type": "markdown",
   "id": "d469ed68",
   "metadata": {},
   "source": [
    "# 1. What does one mean by the term \"machine learning\"?\n",
    "\n",
    "## Answer:"
   ]
  },
  {
   "cell_type": "markdown",
   "id": "b386834b",
   "metadata": {},
   "source": [
    "#### Machine learning is a branch of artificial intelligence (AI) and computer science which focuses on the use of data and algorithms to imitate the way that humans learn, gradually improving its accuracy."
   ]
  },
  {
   "cell_type": "markdown",
   "id": "2df9fff2",
   "metadata": {},
   "source": [
    "# 2.Can you think of 4 distinct types of issues where it shines?\n",
    "\n",
    "## Answer:"
   ]
  },
  {
   "cell_type": "markdown",
   "id": "8d4c1af5",
   "metadata": {},
   "source": [
    "#### There are many more distinct types of issues where ML shines. However, we are mentioning four as below:\n",
    "\n",
    "##### Image and Video Recognition\n",
    "##### Sentiment Analysis\n",
    "##### Demand Forecasting\n",
    "##### Fraudlent Transactions"
   ]
  },
  {
   "cell_type": "markdown",
   "id": "3e2de5ad",
   "metadata": {},
   "source": [
    "# 3.What is a labeled training set, and how does it work?\n",
    "\n",
    "## Answer:"
   ]
  },
  {
   "cell_type": "markdown",
   "id": "439ceea7",
   "metadata": {},
   "source": [
    "#### Labeled data is a designation for pieces of data that have been tagged with one or more labels identifying certain properties or characteristics, or classifications or contained objects. Labels make that data specifically useful in certain types of machine learning known as supervised machine learning setups."
   ]
  },
  {
   "cell_type": "markdown",
   "id": "bfaa7d51",
   "metadata": {},
   "source": [
    "# 4.What are the two most important tasks that are supervised?\n",
    "\n",
    "## Answer:"
   ]
  },
  {
   "cell_type": "markdown",
   "id": "4ca49e28",
   "metadata": {},
   "source": [
    "#### There are two types of Supervised Learning techniques: Regression and Classification."
   ]
  },
  {
   "cell_type": "markdown",
   "id": "8b82e7e1",
   "metadata": {},
   "source": [
    "# 5.Can you think of four examples of unsupervised tasks?\n",
    "\n",
    "## Answer:"
   ]
  },
  {
   "cell_type": "markdown",
   "id": "ac2298f5",
   "metadata": {},
   "source": [
    "#### Common unsupervised tasks include clustering, visualization, dimensionality reduction, and association rule learning."
   ]
  },
  {
   "cell_type": "markdown",
   "id": "28987c0d",
   "metadata": {},
   "source": [
    "# 6.State the machine learning model that would be best to make a robot walk through various unfamiliar terrains?\n",
    "\n",
    "## Answer:"
   ]
  },
  {
   "cell_type": "markdown",
   "id": "858104e7",
   "metadata": {},
   "source": [
    "#### The best Machine Learning algorithm to allow a robot to walk in unknown terrain is Reinforced Learning, where the robot can learn from response of the terrain to optimize itself."
   ]
  },
  {
   "cell_type": "markdown",
   "id": "7aa86c4c",
   "metadata": {},
   "source": [
    "# 7.Which algorithm will you use to divide your customers into different groups?\n",
    "\n",
    "## Answer:"
   ]
  },
  {
   "cell_type": "markdown",
   "id": "f8f510a0",
   "metadata": {},
   "source": [
    "#### If you don’t know how to define the groups, then you can use a clustering algorithm (unsupervised learning) to segment your customers into clusters of similar customers. However, if you know what groups you would like to have, then you can feed many examples of each group to a classification algorithm (supervised learning), and it will classify all your customers into these groups."
   ]
  },
  {
   "cell_type": "markdown",
   "id": "e47c633d",
   "metadata": {},
   "source": [
    "# 8.Will you consider the problem of spam detection to be a supervised or unsupervised learning problem?\n",
    "\n",
    "## Answer:"
   ]
  },
  {
   "cell_type": "markdown",
   "id": "14831e14",
   "metadata": {},
   "source": [
    "#### Spam detection is a supervised machine learning problem. This means you must provide your machine learning model with a set of examples of spam and ham messages and let it find the relevant patterns that separate the two different categories. Most email providers have their own vast data sets of labeled emails."
   ]
  },
  {
   "cell_type": "markdown",
   "id": "24c49457",
   "metadata": {},
   "source": [
    "# 9.What is the concept of an online learning system?\n",
    "\n",
    "## Answer:"
   ]
  },
  {
   "cell_type": "markdown",
   "id": "dd04dfcf",
   "metadata": {},
   "source": [
    "#### An online learning system can learn incrementally, as opposed to a batch learning system. This makes it capable of adapting rapidly to both changing data and autonomous systems, and of training on very large quantities of data."
   ]
  },
  {
   "cell_type": "markdown",
   "id": "fa60d385",
   "metadata": {},
   "source": [
    "# 10.What is out-of-core learning, and how does it differ from core learning?\n",
    "\n",
    "## Answer:"
   ]
  },
  {
   "cell_type": "markdown",
   "id": "68354932",
   "metadata": {},
   "source": [
    "#### Out-of-core algorithms can handle vast quantities of data that cannot fit in a computer’s main memory. An out-of-core learning algorithm chops the data into mini-batches and uses online learning techniques to learn from these mini-batches."
   ]
  },
  {
   "cell_type": "markdown",
   "id": "28a82ab6",
   "metadata": {},
   "source": [
    "# 11.What kind of learning algorithm makes predictions using a similarity measure?\n",
    "\n",
    "## Answer:"
   ]
  },
  {
   "cell_type": "markdown",
   "id": "3d165332",
   "metadata": {},
   "source": [
    "#### An instance-based learning system learns the training data by heart; then, when given a new instance, it uses a similarity measure to find the most similar learned instances and uses them to make predictions "
   ]
  },
  {
   "cell_type": "markdown",
   "id": "c677a1ee",
   "metadata": {},
   "source": [
    "# 12.What's the difference between a model parameter and a hyperparameter in a learning algorithm?\n",
    "\n",
    "## Answer:"
   ]
  },
  {
   "cell_type": "markdown",
   "id": "30461d53",
   "metadata": {},
   "source": [
    "#### A model has one or more model parameters that determine what it will predict given a new instance (e.g., the slope of a linear model). A learning algorithm tries to find optimal values for these parameters such that the model generalizes well to new instances. A hyperparameter is a parameter of the learning algorithm itself, not of the model (e.g., the amount of regularization to apply)"
   ]
  },
  {
   "cell_type": "markdown",
   "id": "25ecb23c",
   "metadata": {},
   "source": [
    "# 13.What are the criteria that model-based learning algorithms look for? What is the most popular method they use to achieve success? What method do they use to make predictions?\n",
    "\n",
    "## Answer:"
   ]
  },
  {
   "cell_type": "markdown",
   "id": "9a0dec78",
   "metadata": {},
   "source": [
    "#### Model-based learning algorithms search for an optimal value for the model parameters such that the model will generalize well to new instances. We usually train such systems by minimizing a cost function that measures how bad the system is at making predictions on the training data, plus a penalty for model complexity if the model is regularized. To make predictions, we feed the new instances’ features into the model’s prediction function, using the parameter values found by the learning algorithm. "
   ]
  },
  {
   "cell_type": "markdown",
   "id": "970804cd",
   "metadata": {},
   "source": [
    "# 14.Can you name four of the most important Machine Learning challenges?\n",
    "\n",
    "## Answer:"
   ]
  },
  {
   "cell_type": "markdown",
   "id": "6a4d3d1d",
   "metadata": {},
   "source": [
    "#### There are multiple challenges often occurs while ML model creation as below:\n",
    "\n",
    "#### o Lack of data\n",
    "#### o Poor data quality\n",
    "#### o Nonrepresentative data\n",
    "#### o Uninformative features\n",
    "#### o Excessively simple models that underfit the training data\n",
    "#### o Excessively complex models that overfit the data "
   ]
  },
  {
   "cell_type": "markdown",
   "id": "a21a39f1",
   "metadata": {},
   "source": [
    "# 15.What happens if the model performs well on the training data but fails to generalize the results to new situations? Can you think of three different options?\n",
    "\n",
    "## Answer:"
   ]
  },
  {
   "cell_type": "markdown",
   "id": "01d9f588",
   "metadata": {},
   "source": [
    "#### If a model performs great on the training data but generalizes poorly to new instances, the model is likely overfitting the training data (or we got extremely lucky on the training data). Possible solutions to overfitting are getting more data, simplifying the model (selecting a simpler algorithm, reducing the number of parameters or features used, or regularizing the model), or reducing the noise in the training data. "
   ]
  },
  {
   "cell_type": "markdown",
   "id": "9971a517",
   "metadata": {},
   "source": [
    "# 16.What exactly is a test set, and why would you need one?\n",
    "\n",
    "## Answer:"
   ]
  },
  {
   "cell_type": "markdown",
   "id": "56aea5f9",
   "metadata": {},
   "source": [
    "#### A test set is used to estimate the generalization error that a model will make on new instances, before the model is launched in production "
   ]
  },
  {
   "cell_type": "markdown",
   "id": "8f41ef3f",
   "metadata": {},
   "source": [
    "# 17.What is a validation set's purpose?\n",
    "\n",
    "## Answer:"
   ]
  },
  {
   "cell_type": "markdown",
   "id": "9c76c6ce",
   "metadata": {},
   "source": [
    "#### Let's say we have a linear model and we want to perform some hyperparameter tuning to reduce the generalization error. One way to do this 100 different models with 100 different hyperparameter values using the training set and finding the generalization error with the test set. You find the best hyperparameter value gives you 5% generalization error.\n",
    "\n",
    "#### So you launch the model into production and find you're seeing 15% generalization error. This isn't going as expected. What happened?\n",
    "\n",
    "#### The problem is that for each iteration of hyperparameter tuning, you measured the generalization error then updated the model using the same test set. In other words, your produced the best generalization error for the test set. The test set no longer represents cases the model hasn't seen before.\n",
    "\n",
    "#### A common solution to this problem is to have a second holdout set called the validation set. You train multiple models with various hyperparameters using the training set, you select the model and hyperparameters that perform best on the validation set, and when you are happy about your model you run a single final test against the test set to get an estimate of the generalization error."
   ]
  },
  {
   "cell_type": "markdown",
   "id": "96375525",
   "metadata": {},
   "source": [
    "# 18.What precisely is the train-dev kit, when will you need it, how do you put it to use?\n",
    "\n",
    "## Answer:"
   ]
  },
  {
   "cell_type": "markdown",
   "id": "78ecf90a",
   "metadata": {},
   "source": [
    "#### The goal of dev-set is to rank the models in term of their accuracy and helps us decide which model to proceed further with. Using Dev set we rank all our models in terms of their accuracy and pick the best performing model."
   ]
  },
  {
   "cell_type": "markdown",
   "id": "8862f070",
   "metadata": {},
   "source": [
    "# 19.What could go wrong if you use the test set to tune hyperparameters?\n",
    "\n",
    "## Answer:"
   ]
  },
  {
   "cell_type": "markdown",
   "id": "01d33ab6",
   "metadata": {},
   "source": [
    "#### Your model will not be generalizable to new examples."
   ]
  }
 ],
 "metadata": {
  "kernelspec": {
   "display_name": "Python 3",
   "language": "python",
   "name": "python3"
  },
  "language_info": {
   "codemirror_mode": {
    "name": "ipython",
    "version": 3
   },
   "file_extension": ".py",
   "mimetype": "text/x-python",
   "name": "python",
   "nbconvert_exporter": "python",
   "pygments_lexer": "ipython3",
   "version": "3.8.8"
  }
 },
 "nbformat": 4,
 "nbformat_minor": 5
}
